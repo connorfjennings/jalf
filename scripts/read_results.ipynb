{
 "cells": [
  {
   "cell_type": "code",
   "execution_count": null,
   "id": "0",
   "metadata": {},
   "outputs": [],
   "source": [
    "import arviz as az\n",
    "import model\n",
    "import os\n",
    "import jax.numpy as jnp"
   ]
  },
  {
   "cell_type": "code",
   "execution_count": null,
   "id": "1",
   "metadata": {},
   "outputs": [],
   "source": [
    "alf_home = os.environ.get('ALF_HOME')\n",
    "jalf_home = os.environ.get('JALF_HOME')\n",
    "\n",
    "#read in data to fit\n",
    "filename = 'NGC2695_KCWI_single_001'\n",
    "indata_file = jalf_home+'indata/'+filename\n",
    "mo = model.model(indata_file)"
   ]
  },
  {
   "cell_type": "code",
   "execution_count": null,
   "id": "2",
   "metadata": {},
   "outputs": [],
   "source": [
    "params = (jnp.log10(8.0),0.0,1.3,2.3,0,100,\\\n",
    "                0.0,0.0,0.0,0.0,0.0,0.0,0.0,0.0,0.0,0.0,0.0,0.0,0.0,0.0,0.0,0.0,0.0,0.0,0.0,-6.0,10.0,-6.0)\n",
    "\n",
    "mo.model_flux_regions(params)"
   ]
  },
  {
   "cell_type": "code",
   "execution_count": null,
   "id": "3",
   "metadata": {},
   "outputs": [],
   "source": [
    "filename = 'NGC2695_KCWI_3ring_001'\n",
    "outdir = './results/'\n",
    "\n",
    "idata = az.from_netcdf(outdir + filename + '.nc')\n"
   ]
  }
 ],
 "metadata": {
  "kernelspec": {
   "display_name": "alfpyro",
   "language": "python",
   "name": "python3"
  },
  "language_info": {
   "codemirror_mode": {
    "name": "ipython",
    "version": 3
   },
   "file_extension": ".py",
   "mimetype": "text/x-python",
   "name": "python",
   "nbconvert_exporter": "python",
   "pygments_lexer": "ipython3",
   "version": "3.13.3"
  }
 },
 "nbformat": 4,
 "nbformat_minor": 5
}
