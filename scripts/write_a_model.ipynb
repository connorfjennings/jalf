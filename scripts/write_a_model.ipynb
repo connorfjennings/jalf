{
 "cells": [
  {
   "cell_type": "code",
   "execution_count": null,
   "id": "0",
   "metadata": {},
   "outputs": [],
   "source": [
    "import os, numpy as np\n",
    "import jax.numpy as jnp\n",
    "from model import model\n",
    "import matplotlib.pyplot as plt"
   ]
  },
  {
   "cell_type": "code",
   "execution_count": null,
   "id": "1",
   "metadata": {},
   "outputs": [],
   "source": [
    "mo = model('NA')"
   ]
  },
  {
   "cell_type": "code",
   "execution_count": null,
   "id": "2",
   "metadata": {},
   "outputs": [],
   "source": [
    "imf1_th = np.arange(1.0,3.3,0.3)\n",
    "\n",
    "def get_flux(imf1,imf2):\n",
    "    age = 8.0\n",
    "    logage = jnp.log10(age)\n",
    "    Z = 0.0\n",
    "    velz = 0.0\n",
    "    velz = velz * 100\n",
    "    sigma = 3.0\n",
    "    sigma = sigma * 100\n",
    "\n",
    "    nah = 0.0\n",
    "    cah = 0.0\n",
    "    feh = 0.0\n",
    "\n",
    "    ch = 0.0\n",
    "    nh = 0.0\n",
    "    ah = 0.0\n",
    "    tih = 0.0\n",
    "    mgh = 0.0\n",
    "    sih = 0.0\n",
    "    mnh = 0.0\n",
    "    bah = 0.0\n",
    "    nih = 0.0\n",
    "    coh = 0.0\n",
    "    euh = 0.0\n",
    "    srh = 0.0\n",
    "    kh = 0.0\n",
    "    vh = 0.0\n",
    "    cuh = 0.0\n",
    "\n",
    "    teff = 0.0\n",
    "    teff = teff*100\n",
    "\n",
    "    loghot = -8.0\n",
    "    hotteff = 10\n",
    "    logm7g = -8.0\n",
    "\n",
    "    params = (logage,Z,imf1,imf2,velz,sigma,\\\n",
    "                nah,cah,feh,ch,nh,ah,tih,mgh,sih,mnh,bah,nih,coh,euh,srh,kh,vh,cuh,teff,\\\n",
    "                loghot,hotteff,logm7g)\n",
    "    return mo.model_flux_total(params)\n",
    "\n",
    "wl,flux_base = get_flux(1.3,2.3)\n",
    "\n",
    "wl,flux = get_flux(3.0,2.3)\n",
    "ratio = flux/flux_base\n",
    "plt.plot(wl,ratio)\n",
    "\n",
    "ind = wl > 4000\n",
    "\n",
    "plt.xlim(11000,12000)\n",
    "plt.ylim(0.49,0.51)\n",
    "\n"
   ]
  },
  {
   "cell_type": "code",
   "execution_count": null,
   "id": "3",
   "metadata": {},
   "outputs": [],
   "source": [
    "array_to_save = np.vstack((wl[ind],ratio[ind]))"
   ]
  },
  {
   "cell_type": "code",
   "execution_count": null,
   "id": "4",
   "metadata": {},
   "outputs": [],
   "source": [
    "np.savetxt('imf_ratio_t8.csv',array_to_save.T)"
   ]
  },
  {
   "cell_type": "code",
   "execution_count": null,
   "id": "5",
   "metadata": {},
   "outputs": [],
   "source": []
  }
 ],
 "metadata": {
  "kernelspec": {
   "display_name": "alfpyro",
   "language": "python",
   "name": "python3"
  },
  "language_info": {
   "codemirror_mode": {
    "name": "ipython",
    "version": 3
   },
   "file_extension": ".py",
   "mimetype": "text/x-python",
   "name": "python",
   "nbconvert_exporter": "python",
   "pygments_lexer": "ipython3",
   "version": "3.13.3"
  }
 },
 "nbformat": 4,
 "nbformat_minor": 5
}
