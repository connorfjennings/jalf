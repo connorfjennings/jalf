{
 "cells": [
  {
   "cell_type": "code",
   "execution_count": null,
   "id": "0",
   "metadata": {},
   "outputs": [],
   "source": [
    "import arviz as az\n",
    "import model\n",
    "import os\n",
    "import jax.numpy as jnp\n",
    "import matplotlib.pyplot as plt\n",
    "import numpy as np\n",
    "import random\n",
    "import m2l"
   ]
  },
  {
   "cell_type": "code",
   "execution_count": null,
   "id": "1",
   "metadata": {},
   "outputs": [],
   "source": [
    "alf_home = os.environ.get('ALF_HOME')\n",
    "jalf_home = os.environ.get('JALF_HOME')\n",
    "\n",
    "#read in data to fit\n",
    "filename = 'NGC2695_KCWI_3ring_001'\n",
    "indata_file = jalf_home+'indata/'+filename\n",
    "mo = model.model(indata_file)"
   ]
  },
  {
   "cell_type": "code",
   "execution_count": null,
   "id": "2",
   "metadata": {},
   "outputs": [],
   "source": [
    "\n",
    "posterior_samples = np.load(jalf_home+'results/'+filename+'.npz')\n",
    "\n",
    "param_list = ['age','Z','imf1','velz','sigma','nah','cah','feh','ch','nh',\n",
    "              'ah','tih','mgh','sih','mnh','bah','nih','coh','euh','srh','kh','vh','cuh','teff',\n",
    "              'loghot','hotteff','logm7g',\n",
    "              'age_young','log_frac_young']\n",
    "\n",
    "median_params = []\n",
    "n_to_plot = 100\n",
    "n_ind = random.sample(range(len(posterior_samples['age'])),100)\n",
    "n_params = []\n",
    "for pname in param_list:\n",
    "    samples = posterior_samples[pname]\n",
    "    if pname == 'age':\n",
    "        median_params.append(np.median(np.log10(samples)))\n",
    "        n_params.append(np.log10(samples[n_ind]))\n",
    "    elif pname == 'imf1':\n",
    "        median_params.append(np.median(np.log10(samples)))\n",
    "        median_params.append(np.median(np.log10(samples)))\n",
    "        n_params.append(np.log10(samples[n_ind]))\n",
    "        n_params.append(np.log10(samples[n_ind]))\n",
    "\n",
    "    elif (pname == 'velz') or (pname == 'sigma') or (pname == 'teff'):\n",
    "        median_params.append(np.median(samples) * 100)      \n",
    "        n_params.append(samples[n_ind]*100)\n",
    "    elif (pname != 'df'):\n",
    "        median_params.append(np.median(samples))\n",
    "        n_params.append(samples[n_ind])\n",
    "n_params=np.array(n_params).T"
   ]
  },
  {
   "cell_type": "code",
   "execution_count": null,
   "id": "3",
   "metadata": {},
   "outputs": [],
   "source": [
    "n_params.shape"
   ]
  },
  {
   "cell_type": "code",
   "execution_count": null,
   "id": "4",
   "metadata": {},
   "outputs": [],
   "source": [
    "lam, flux = mo.model_flux_total(median_params)\n",
    "m2l.getm2l(lam,flux,median_params[0],median_params[1],median_params[2],median_params[2])"
   ]
  },
  {
   "cell_type": "code",
   "execution_count": null,
   "id": "5",
   "metadata": {},
   "outputs": [],
   "source": [
    "i = 3\n",
    "\n",
    "wl_d_region, flux_d_region, dflux_d_region, flux_m_region, flux_mn_region = mo.model_flux_regions(median_params)\n",
    "plt.plot(wl_d_region[i],flux_d_region[i],color='k')\n",
    "plt.plot(wl_d_region[i],flux_mn_region[i],color='r',alpha=0.5)\n",
    "for j in range(n_to_plot):\n",
    "    wl_d_region, flux_d_region, dflux_d_region, flux_m_region, flux_mn_region = mo.model_flux_regions(n_params[j])\n",
    "    plt.plot(wl_d_region[i],flux_mn_region[i],color='orange',alpha=0.05)\n",
    "#plt.xlim(8000,8750)"
   ]
  },
  {
   "cell_type": "code",
   "execution_count": null,
   "id": "6",
   "metadata": {},
   "outputs": [],
   "source": [
    "idata = az.from_netcdf(jalf_home+'results/'+filename+'.nc')\n",
    "\n",
    "az.plot_pair(idata, \n",
    "             var_names=['age','Z','imf1','velz','sigma'],\n",
    "             kind='kde',\n",
    "             marginals=True)\n",
    "plt.show()"
   ]
  },
  {
   "cell_type": "code",
   "execution_count": null,
   "id": "7",
   "metadata": {},
   "outputs": [],
   "source": [
    "alf_home = os.environ.get('ALF_HOME')\n",
    "jalf_home = os.environ.get('JALF_HOME')\n",
    "\n",
    "param_list = ['age','Z','imf1','imf2','velz','sigma','nah','cah','feh','ch','nh',\n",
    "                'ah','tih','mgh','sih','mnh','bah','nih','coh','euh','srh','kh','vh','cuh','teff',\n",
    "                'loghot','hotteff','logm7g']\n",
    "\n",
    "glist = ['ESO325-G004','NGC1277','NGC1407','NGC1600','NGC2695','GCcombine']\n",
    "fit_values = []\n",
    "for gname in glist:\n",
    "    if gname == 'GCcombine':\n",
    "        filename = gname+'_r8vd100_001'\n",
    "    else:\n",
    "        filename = gname+'_supercoarse_001'\n",
    "    indata_file = jalf_home+'indata/'+filename\n",
    "    mo = model.model(indata_file,ang_per_poly_degree=200)\n",
    "    posterior_samples = np.load(jalf_home+'results/'+filename+'.npz')\n",
    "\n",
    "    median_params = []\n",
    "    n_to_plot = 100\n",
    "    n_ind = random.sample(range(len(posterior_samples['age'])),100)\n",
    "    n_params = []\n",
    "    for pname in param_list:\n",
    "        samples = posterior_samples[pname]\n",
    "        if pname == 'age':\n",
    "            median_params.append(np.median(np.log10(samples)))\n",
    "            n_params.append(np.log10(samples[n_ind]))\n",
    "\n",
    "        elif (pname == 'velz') or (pname == 'sigma') or (pname == 'teff'):\n",
    "            median_params.append(np.median(samples) * 100)      \n",
    "            n_params.append(samples[n_ind]*100)\n",
    "        elif (pname != 'df'):\n",
    "            median_params.append(np.median(samples))\n",
    "            n_params.append(samples[n_ind])\n",
    "    n_params=np.array(n_params).T\n",
    "\n",
    "    i = 4\n",
    "\n",
    "    wl_d_region, flux_d_region, dflux_d_region, flux_m_region, flux_mn_region = mo.model_flux_regions(median_params)\n",
    "    plt.plot(wl_d_region[i],flux_d_region[i],color='k')\n",
    "    plt.plot(wl_d_region[i],flux_mn_region[i],color='r',alpha=0.5)\n",
    "    for j in range(n_to_plot):\n",
    "        wl_d_region, flux_d_region, dflux_d_region, flux_m_region, flux_mn_region = mo.model_flux_regions(n_params[j])\n",
    "        plt.plot(wl_d_region[i],flux_mn_region[i],color='orange',alpha=0.05)\n",
    "    plt.title(gname)\n",
    "    plt.show()\n",
    "\n",
    "    velz_percentile = np.percentile(posterior_samples['velz'],(16,50,84))*100\n",
    "    sigma_percentile = np.percentile(posterior_samples['sigma'],(16,50,84))*100\n",
    "    if gname != 'GCcombine':\n",
    "        sigma_percentile = np.sqrt(sigma_percentile**2 + 100**2)\n",
    "\n",
    "    fit_values.append(np.append(velz_percentile,sigma_percentile))\n",
    "\n"
   ]
  },
  {
   "cell_type": "code",
   "execution_count": null,
   "id": "8",
   "metadata": {},
   "outputs": [],
   "source": [
    "combined = np.column_stack((glist,np.vstack(fit_values).astype(str)))\n",
    "header = 'name, velz_16, velz_50, velz_84, sigma_16, sigma_50, sigma_84'\n",
    "np.savetxt('vel_fit.csv',combined,fmt='%s', delimiter=',',header=header)"
   ]
  },
  {
   "cell_type": "code",
   "execution_count": null,
   "id": "9",
   "metadata": {},
   "outputs": [],
   "source": []
  }
 ],
 "metadata": {
  "kernelspec": {
   "display_name": "alfpyro",
   "language": "python",
   "name": "python3"
  },
  "language_info": {
   "codemirror_mode": {
    "name": "ipython",
    "version": 3
   },
   "file_extension": ".py",
   "mimetype": "text/x-python",
   "name": "python",
   "nbconvert_exporter": "python",
   "pygments_lexer": "ipython3",
   "version": "3.13.3"
  }
 },
 "nbformat": 4,
 "nbformat_minor": 5
}
