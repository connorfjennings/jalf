{
 "cells": [
  {
   "cell_type": "code",
   "execution_count": null,
   "id": "0",
   "metadata": {},
   "outputs": [],
   "source": [
    "import os, numpy as np\n",
    "import jax.numpy as jnp\n",
    "from model import model\n",
    "import matplotlib.pyplot as plt"
   ]
  },
  {
   "cell_type": "code",
   "execution_count": null,
   "id": "1",
   "metadata": {},
   "outputs": [],
   "source": [
    "mo = model('NA')"
   ]
  },
  {
   "cell_type": "code",
   "execution_count": null,
   "id": "2",
   "metadata": {},
   "outputs": [],
   "source": [
    "imf1_th = np.arange(1.0,3.3,0.3)\n",
    "\n",
    "def get_flux(imf1,imf2):\n",
    "    params = (jnp.log10(12.0),-0.1,imf1,imf2,0.0,300.0,\\\n",
    "                0.0,0.0,0.0,0.0,0.0,0.0,0.0,0.0,0.0,0.0,0.0,0.0,0.0,0.0,0.0,0.0,0.0,0.0,0.0,\\\n",
    "                -6.0,10.0,-6.0,\\\n",
    "                jnp.log10(2.0),-6.0,\\\n",
    "                0.0,100.0,-6.0,-6.0,-6.0,-6.0,-6.0,-6.0,\\\n",
    "                0.0,0.0)\n",
    "    return mo.model_flux_total(params)\n",
    "\n",
    "wl,flux_base = get_flux(1.3,2.3)\n",
    "\n",
    "wl,flux = get_flux(3.0,2.3)\n",
    "ratio = flux/flux_base\n",
    "ind = (wl > 10000) & (wl < 12000)\n",
    "plt.plot(wl[ind],ratio[ind]/ratio[ind][0])\n",
    "\n",
    "params = (jnp.log10(12.0),-0.1,1.3,2.3,0.0,300.0,\\\n",
    "                0.0,0.0,0.0,0.0,0.0,0.0,0.0,0.0,0.0,0.0,0.0,0.0,0.0,0.0,0.0,0.3,0.0,0.0,0.0,\\\n",
    "                -6.0,10.0,-6.0,\\\n",
    "                jnp.log10(2.0),-6.0,\\\n",
    "                0.0,100.0,-6.0,-6.0,-6.0,-6.0,-6.0,-6.0,\\\n",
    "                0.0,0.0)\n",
    "wl,flux_2 = mo.model_flux_total(params)\n",
    "ratio = flux_2/flux_base\n",
    "ind = (wl > 10700) & (wl < 11700)\n",
    "plt.plot(wl[ind],ratio[ind]/ratio[ind][0])\n",
    "\n",
    "#plt.plot(wl[ind],flux[ind]/flux[ind][0])\n",
    "\n",
    "\n",
    "\n"
   ]
  },
  {
   "cell_type": "code",
   "execution_count": null,
   "id": "3",
   "metadata": {},
   "outputs": [],
   "source": [
    "array_to_save = np.vstack((wl[ind],ratio[ind]))"
   ]
  },
  {
   "cell_type": "code",
   "execution_count": null,
   "id": "4",
   "metadata": {},
   "outputs": [],
   "source": [
    "np.savetxt('imf_ratio_t8.csv',array_to_save.T)"
   ]
  },
  {
   "cell_type": "code",
   "execution_count": null,
   "id": "5",
   "metadata": {},
   "outputs": [],
   "source": [
    "import numpy as np\n",
    "import matplotlib.pyplot as plt\n",
    "A=np.array([[1.0,0.0,0.0,0.5],[1.0,0.0,0.0,2.0]])\n",
    "B = np.ones_like(A)*0.5\n",
    "C=np.stack((A,B))\n",
    "D = np.sum(C,axis=0)\n",
    "\n",
    "RGB = np.stack((A,B,D),axis=-1)\n",
    "plt.imshow(RGB)\n",
    "\n",
    "RGB"
   ]
  }
 ],
 "metadata": {
  "kernelspec": {
   "display_name": "alfpyro",
   "language": "python",
   "name": "python3"
  },
  "language_info": {
   "codemirror_mode": {
    "name": "ipython",
    "version": 3
   },
   "file_extension": ".py",
   "mimetype": "text/x-python",
   "name": "python",
   "nbconvert_exporter": "python",
   "pygments_lexer": "ipython3",
   "version": "3.13.3"
  }
 },
 "nbformat": 4,
 "nbformat_minor": 5
}
